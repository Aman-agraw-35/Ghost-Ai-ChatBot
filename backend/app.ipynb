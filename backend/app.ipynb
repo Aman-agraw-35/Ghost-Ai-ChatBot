{
 "cells": [
  {
   "cell_type": "code",
   "execution_count": 15,
   "id": "21384679",
   "metadata": {},
   "outputs": [
    {
     "name": "stdout",
     "output_type": "stream",
     "text": [
      "Why don't scientists trust atoms?\n",
      "\n",
      "Because they make up everything!\n"
     ]
    }
   ],
   "source": [
    "from typing import TypedDict, Annotated, Optional\n",
    "from langgraph.graph import add_messages, StateGraph, END\n",
    "from langchain_google_genai import ChatGoogleGenerativeAI\n",
    "from dotenv import load_dotenv\n",
    "from langchain_community.tools.tavily_search import TavilySearchResults\n",
    "from langgraph.checkpoint.memory import MemorySaver\n",
    "from uuid import uuid4\n",
    "import json\n",
    "\n",
    "load_dotenv()\n",
    "\n",
    "# Initialize model\n",
    "model = ChatGoogleGenerativeAI(model=\"gemini-2.5-flash\")\n",
    "\n",
    "# Send a query\n",
    "response = model.invoke(\"Tell me a joke.\")\n",
    "\n",
    "# Print just the text response\n",
    "print(response.content)\n"
   ]
  },
  {
   "cell_type": "code",
   "execution_count": 16,
   "id": "a4d159b4",
   "metadata": {},
   "outputs": [
    {
     "name": "stdout",
     "output_type": "stream",
     "text": [
      "[{'title': 'Bengaluru weather: Patchy rain, mild temperatures with moderate ...', 'url': 'https://timesofindia.indiatimes.com/city/bengaluru/bangalore-weather-update-pleasant-rainy-day-ahead-with-comfortable-temperatures/articleshow/123593650.cms', 'content': \"Bengaluru is expected to have mild and damp weather on August 30, 2025, with temperatures ranging from 19.8°C to 26.2°C. Patchy rain is forecasted throughout the day, and humidity will be around 78%. The city's air quality is favorable, with an AQI of 41, making morning hours ideal for outdoor activities. The upcoming week indicates consistent rainfall and fluctuating temperatures. [...] The data for this weather forecast has been sourced from AQI.in, providing residents with comprehensive information to plan their daily activities and weekly schedules accordingly.Bengaluru is set to experience mild and damp weather on August 30, 2025, with temperatures ranging from 19.8°C to 26.2°C and patchy rain expected throughout the day. The city's air quality remains favorable, recording an AQI of 41 yesterday, while an 88% chance of rain today promises [...] Noida Dowry Murder Case\\n\\nNoida Dowry Murder\\n\\nRahul Gandhi Yatra Plan\\n\\nUdaipur Women Delivery\\n\\nRahul Mamkootathil\\n\\nKedarnath Skeleton Found\\n\\nNoida Dowry Murder Case\\n\\nNoida Dowry Murder\\n\\n# Bengaluru weather: Patchy rain, mild temperatures with moderate winds expected today\\n\\nTIMESOFINDIA.COM / Updated: Aug 30, 2025, 07:16 IST\\n\\nShare\\n\\nAA\\n\\nText Size\\n\\n Small\\n Medium\\n Large\", 'score': 0.97541124}, {'title': 'Bengaluru Weather Forecast 30 Aug 2025 - The Times of India', 'url': 'https://timesofindia.indiatimes.com/weather/bengaluru-weather-forecast-today/560001', 'content': 'Today’s Weather in Bengaluru:\\nIn Bengaluru today, the weather is expected to be Partly Cloudy with a maximum temperature of 28°C and a minimum of 22°C. Sunrise in Bengaluru is set for 06:08 AM and sunset at 06:31 PM Atmospheric pressure will be around 101.2 kPa with humidity at 68.\\nThere is a 0% probability of rain in Bengaluru and the UV index is at 2. Tomorrow, expect the temperature range of 27°C to 20°C. [...] + The weather in Bengaluru today is Partly Cloudy with a high of 28°C and a low of 22°C.\\n ##### 2. What is the chance of rain in Bengaluru today?\\n ##### 3. When is the sunrise and sunset in Bengaluru today?\\n ##### 4. What will the weather be like in Bengaluru tomorrow?\\n ##### 5. Will it rain tomorrow in Bengaluru?\\n\\n## Other Cities [...] ## Weather in Popular Cities Clear skies or hazardous air? Get the latest weather insights\\n\\nNew Delhi\\n\\n32°C\\n\\n82 AQI\\nMumbai\\n\\n28°C\\n\\n57 AQI\\nBangalore\\n\\n28°C\\n\\n47 AQI\\nHyderabad\\n\\n29°C\\n\\n44 AQI\\nChennai\\n\\n33°C\\n\\n50 AQI\\nNoida\\n\\n32°C\\n\\n69 AQI\\nKolkata\\n\\n30°C\\n\\n39 AQI\\nPune\\n\\n28°C\\n\\n38 AQI\\nAhmedabad\\n\\n31°C\\n\\n83 AQI\\nLucknow\\n\\n31°C\\n\\n60 AQI\\nGurgaon\\n\\n32°C\\n\\n66 AQI\\nChandigarh\\n\\n30°C\\n\\n42 AQI\\n\\n## FAQ’s\\n\\n ##### 1. What is the weather like in Bengaluru today?', 'score': 0.96039474}, {'title': 'Weather in Bengaluru in August 2025 - Detailed Forecast', 'url': 'https://www.easeweather.com/asia/india/karnataka/bangalore-urban/bengaluru/august', 'content': '| 30 Aug. | Patchy rain possible Patchy rain possible | 27° /20° | 1 mm | 6 |  |\\n| 31 Aug. | Patchy rain possible Patchy rain possible | 28° /20° | 3.8 mm | 6 |  |\\n| Next | | | | | | [...] Moderate or heavy rain shower\\nPartly cloudy\\nCloudy\\nOvercast\\nPatchy rain possible\\nPatchy rain possible [...] Moderate or heavy rain shower\\nPartly cloudy\\nCloudy\\nOvercast\\nPatchy rain possible\\nPatchy rain possible', 'score': 0.92343384}, {'title': 'Weather Bengaluru in August 2025 - Climate-Data.org', 'url': 'https://en.climate-data.org/asia/india/karnataka/bengaluru-4562/t/august-8/', 'content': '| 30. August | 22 °C | 72 °F | 26 °C | 79 °F | 19 °C | 66 °F | 9.2 mm | 0.4 inch. |\\n| 31. August | 22 °C | 72 °F | 26 °C | 79 °F | 19 °C | 66 °F | 10.3 mm | 0.4 inch. |\\nData: 1999 - 2019 [...] | Min. Temperature °C (°F) | 14.6 °C (58.4) °F | 16.1 °C (61) °F | 18.7 °C (65.6) °F | 20.8 °C (69.4) °F | 21 °C (69.8) °F | 20.2 °C (68.3) °F | 19.8 °C (67.6) °F | 19.4 °C (66.9) °F | 19 °C (66.2) °F | 18.4 °C (65.1) °F | 16.7 °C (62) °F | 15.1 °C (59.1) °F | [...] | Humidity(%) | 56% | 46% | 41% | 51% | 65% | 76% | 78% | 79% | 78% | 78% | 72% | 65% |\\n| Rainy days (d) | 1 | 1 | 2 | 5 | 11 | 14 | 15 | 15 | 12 | 13 | 7 | 3 |\\n| avg. Sun hours (hours) | 8.9 | 9.8 | 10.4 | 10.6 | 9.5 | 6.8 | 6.1 | 5.7 | 6.4 | 7.2 | 7.1 | 7.5 |', 'score': 0.9154545}]\n"
     ]
    }
   ],
   "source": [
    "search_tool = TavilySearchResults(max_results=4)\n",
    "\n",
    "tools = [search_tool]\n",
    "search_tool = TavilySearchResults(max_results=4)\n",
    "print(search_tool.run(\"What is the weather in bangalore?\"))\n",
    "\n",
    "memory = MemorySaver()\n"
   ]
  },
  {
   "cell_type": "code",
   "execution_count": 21,
   "id": "f0c735fe",
   "metadata": {},
   "outputs": [
    {
     "data": {
      "text/plain": [
       "AIMessage(content='', additional_kwargs={'function_call': {'name': 'tavily_search_results_json', 'arguments': '{\"query\": \"weather in Bangalore\"}'}}, response_metadata={'prompt_feedback': {'block_reason': 0, 'safety_ratings': []}, 'finish_reason': 'STOP', 'model_name': 'gemini-2.5-flash', 'safety_ratings': []}, id='run--28f5c2c7-d8ab-497e-9202-7d783d90ef60-0', tool_calls=[{'name': 'tavily_search_results_json', 'args': {'query': 'weather in Bangalore'}, 'id': '13782da2-b7c8-498c-9b0d-139bd4130bc7', 'type': 'tool_call'}], usage_metadata={'input_tokens': 82, 'output_tokens': 78, 'total_tokens': 160, 'input_token_details': {'cache_read': 0}, 'output_token_details': {'reasoning': 55}})"
      ]
     },
     "execution_count": 21,
     "metadata": {},
     "output_type": "execute_result"
    }
   ],
   "source": [
    "\n",
    "result = llm_with_tools.invoke(\"What is the weather in bangalore?\")\n",
    "result\n"
   ]
  }
 ],
 "metadata": {
  "kernelspec": {
   "display_name": "Python 3",
   "language": "python",
   "name": "python3"
  },
  "language_info": {
   "codemirror_mode": {
    "name": "ipython",
    "version": 3
   },
   "file_extension": ".py",
   "mimetype": "text/x-python",
   "name": "python",
   "nbconvert_exporter": "python",
   "pygments_lexer": "ipython3",
   "version": "3.12.0"
  }
 },
 "nbformat": 4,
 "nbformat_minor": 5
}
